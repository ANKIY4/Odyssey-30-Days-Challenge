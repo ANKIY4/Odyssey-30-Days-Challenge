{
 "cells": [
  {
   "cell_type": "code",
   "execution_count": 1,
   "id": "3f31f57b",
   "metadata": {},
   "outputs": [],
   "source": [
    "import pandas as pd\n",
    "import matplotlib.pyplot as plt\n",
    "from sklearn.linear_model import LinearRegression\n",
    "from sklearn.model_selection import train_test_split"
   ]
  },
  {
   "cell_type": "code",
   "execution_count": 29,
   "id": "1e54b5f8",
   "metadata": {},
   "outputs": [
    {
     "data": {
      "text/html": [
       "<div>\n",
       "<style scoped>\n",
       "    .dataframe tbody tr th:only-of-type {\n",
       "        vertical-align: middle;\n",
       "    }\n",
       "\n",
       "    .dataframe tbody tr th {\n",
       "        vertical-align: top;\n",
       "    }\n",
       "\n",
       "    .dataframe thead th {\n",
       "        text-align: right;\n",
       "    }\n",
       "</style>\n",
       "<table border=\"1\" class=\"dataframe\">\n",
       "  <thead>\n",
       "    <tr style=\"text-align: right;\">\n",
       "      <th></th>\n",
       "      <th>Region</th>\n",
       "      <th>State</th>\n",
       "      <th>Item Count</th>\n",
       "      <th>Order Total</th>\n",
       "    </tr>\n",
       "  </thead>\n",
       "  <tbody>\n",
       "    <tr>\n",
       "      <th>0</th>\n",
       "      <td>West</td>\n",
       "      <td>Idaho</td>\n",
       "      <td>3</td>\n",
       "      <td>2.08</td>\n",
       "    </tr>\n",
       "    <tr>\n",
       "      <th>1</th>\n",
       "      <td>West</td>\n",
       "      <td>Colorado</td>\n",
       "      <td>5</td>\n",
       "      <td>6.00</td>\n",
       "    </tr>\n",
       "    <tr>\n",
       "      <th>2</th>\n",
       "      <td>West</td>\n",
       "      <td>Idaho</td>\n",
       "      <td>3</td>\n",
       "      <td>9.85</td>\n",
       "    </tr>\n",
       "    <tr>\n",
       "      <th>3</th>\n",
       "      <td>Midwest</td>\n",
       "      <td>Wisconsin</td>\n",
       "      <td>3</td>\n",
       "      <td>14.78</td>\n",
       "    </tr>\n",
       "    <tr>\n",
       "      <th>4</th>\n",
       "      <td>Southeast</td>\n",
       "      <td>Louisiana</td>\n",
       "      <td>4</td>\n",
       "      <td>17.13</td>\n",
       "    </tr>\n",
       "  </tbody>\n",
       "</table>\n",
       "</div>"
      ],
      "text/plain": [
       "      Region      State  Item Count  Order Total\n",
       "0       West      Idaho           3         2.08\n",
       "1       West   Colorado           5         6.00\n",
       "2       West      Idaho           3         9.85\n",
       "3    Midwest  Wisconsin           3        14.78\n",
       "4  Southeast  Louisiana           4        17.13"
      ]
     },
     "execution_count": 29,
     "metadata": {},
     "output_type": "execute_result"
    }
   ],
   "source": [
    "import pandas as pd\n",
    "\n",
    "# Let's create our Own data frame...\n",
    "data = {\n",
    "    'Region': ['West', 'West', 'West', 'Midwest', 'Southeast', 'Northeast', 'West', 'West', 'Northeast', 'West',\n",
    "               'Southeast', 'Northeast', 'Midwest', 'Northeast', 'Northeast', 'Northeast', 'West', 'West', 'Northeast',\n",
    "               'Northeast', 'West', 'Southeast', 'Northeast', 'West', 'Southeast', 'West'],\n",
    "    'State': ['Idaho', 'Colorado', 'Idaho', 'Wisconsin', 'Louisiana', 'Maine', 'Wyoming', 'Connecticut', 'Louisiana',\n",
    "              'Alabama', 'Ohio', 'Pennsylvania', 'Maryland', 'Georgia', 'Connecticut', 'Connecticut', 'Oregon', 'Connecticut',\n",
    "              'Mississippi', 'Connecticut', 'Mississippi', 'Virginia', 'Michigan', 'Idaho', 'Louisiana', 'Montana'],\n",
    "    'Item Count': [3, 5, 3, 3, 4, 4, 4, 9, 9, 3, 3, 8, 4, 6, 8, 6, 3, 10, 3, 10, 8, 4, 10, 10, 8, 8],\n",
    "    'Order Total': [2.08, 6.00, 9.85, 14.78, 17.13, 19.43, 22.04, 24.75, 30.89, 32.04,\n",
    "                    38.22, 42.04, 43.14, 43.14, 47.85, 57.18, 58.00, 60.37, 70.91, 98.67,\n",
    "                    76.09, 77.53, 80.85, 90.84, 91.99, 96.77]\n",
    "}\n",
    "\n",
    "df_o = pd.DataFrame(data)\n",
    "df_o.head()"
   ]
  },
  {
   "cell_type": "markdown",
   "id": "68305718",
   "metadata": {},
   "source": [
    "<p> HERE we have a custom data set for the number of items orderd and the total amount for the number of orders created by me just for testing purposes.. now i need to create a model to show a relation ship between these values ... JUST for learning and testing we will use LINEAR REGRESSION model to predict the value of unseen item count using our model ... </p>"
   ]
  },
  {
   "cell_type": "markdown",
   "id": "3fcc2221",
   "metadata": {},
   "source": [
    "# CREATING A LINEAR REGRESSION MODEL"
   ]
  },
  {
   "cell_type": "code",
   "execution_count": 13,
   "id": "d6c66be2",
   "metadata": {},
   "outputs": [
    {
     "data": {
      "text/html": [
       "<style>#sk-container-id-1 {color: black;}#sk-container-id-1 pre{padding: 0;}#sk-container-id-1 div.sk-toggleable {background-color: white;}#sk-container-id-1 label.sk-toggleable__label {cursor: pointer;display: block;width: 100%;margin-bottom: 0;padding: 0.3em;box-sizing: border-box;text-align: center;}#sk-container-id-1 label.sk-toggleable__label-arrow:before {content: \"▸\";float: left;margin-right: 0.25em;color: #696969;}#sk-container-id-1 label.sk-toggleable__label-arrow:hover:before {color: black;}#sk-container-id-1 div.sk-estimator:hover label.sk-toggleable__label-arrow:before {color: black;}#sk-container-id-1 div.sk-toggleable__content {max-height: 0;max-width: 0;overflow: hidden;text-align: left;background-color: #f0f8ff;}#sk-container-id-1 div.sk-toggleable__content pre {margin: 0.2em;color: black;border-radius: 0.25em;background-color: #f0f8ff;}#sk-container-id-1 input.sk-toggleable__control:checked~div.sk-toggleable__content {max-height: 200px;max-width: 100%;overflow: auto;}#sk-container-id-1 input.sk-toggleable__control:checked~label.sk-toggleable__label-arrow:before {content: \"▾\";}#sk-container-id-1 div.sk-estimator input.sk-toggleable__control:checked~label.sk-toggleable__label {background-color: #d4ebff;}#sk-container-id-1 div.sk-label input.sk-toggleable__control:checked~label.sk-toggleable__label {background-color: #d4ebff;}#sk-container-id-1 input.sk-hidden--visually {border: 0;clip: rect(1px 1px 1px 1px);clip: rect(1px, 1px, 1px, 1px);height: 1px;margin: -1px;overflow: hidden;padding: 0;position: absolute;width: 1px;}#sk-container-id-1 div.sk-estimator {font-family: monospace;background-color: #f0f8ff;border: 1px dotted black;border-radius: 0.25em;box-sizing: border-box;margin-bottom: 0.5em;}#sk-container-id-1 div.sk-estimator:hover {background-color: #d4ebff;}#sk-container-id-1 div.sk-parallel-item::after {content: \"\";width: 100%;border-bottom: 1px solid gray;flex-grow: 1;}#sk-container-id-1 div.sk-label:hover label.sk-toggleable__label {background-color: #d4ebff;}#sk-container-id-1 div.sk-serial::before {content: \"\";position: absolute;border-left: 1px solid gray;box-sizing: border-box;top: 0;bottom: 0;left: 50%;z-index: 0;}#sk-container-id-1 div.sk-serial {display: flex;flex-direction: column;align-items: center;background-color: white;padding-right: 0.2em;padding-left: 0.2em;position: relative;}#sk-container-id-1 div.sk-item {position: relative;z-index: 1;}#sk-container-id-1 div.sk-parallel {display: flex;align-items: stretch;justify-content: center;background-color: white;position: relative;}#sk-container-id-1 div.sk-item::before, #sk-container-id-1 div.sk-parallel-item::before {content: \"\";position: absolute;border-left: 1px solid gray;box-sizing: border-box;top: 0;bottom: 0;left: 50%;z-index: -1;}#sk-container-id-1 div.sk-parallel-item {display: flex;flex-direction: column;z-index: 1;position: relative;background-color: white;}#sk-container-id-1 div.sk-parallel-item:first-child::after {align-self: flex-end;width: 50%;}#sk-container-id-1 div.sk-parallel-item:last-child::after {align-self: flex-start;width: 50%;}#sk-container-id-1 div.sk-parallel-item:only-child::after {width: 0;}#sk-container-id-1 div.sk-dashed-wrapped {border: 1px dashed gray;margin: 0 0.4em 0.5em 0.4em;box-sizing: border-box;padding-bottom: 0.4em;background-color: white;}#sk-container-id-1 div.sk-label label {font-family: monospace;font-weight: bold;display: inline-block;line-height: 1.2em;}#sk-container-id-1 div.sk-label-container {text-align: center;}#sk-container-id-1 div.sk-container {/* jupyter's `normalize.less` sets `[hidden] { display: none; }` but bootstrap.min.css set `[hidden] { display: none !important; }` so we also need the `!important` here to be able to override the default hidden behavior on the sphinx rendered scikit-learn.org. See: https://github.com/scikit-learn/scikit-learn/issues/21755 */display: inline-block !important;position: relative;}#sk-container-id-1 div.sk-text-repr-fallback {display: none;}</style><div id=\"sk-container-id-1\" class=\"sk-top-container\"><div class=\"sk-text-repr-fallback\"><pre>LinearRegression()</pre><b>In a Jupyter environment, please rerun this cell to show the HTML representation or trust the notebook. <br />On GitHub, the HTML representation is unable to render, please try loading this page with nbviewer.org.</b></div><div class=\"sk-container\" hidden><div class=\"sk-item\"><div class=\"sk-estimator sk-toggleable\"><input class=\"sk-toggleable__control sk-hidden--visually\" id=\"sk-estimator-id-1\" type=\"checkbox\" checked><label for=\"sk-estimator-id-1\" class=\"sk-toggleable__label sk-toggleable__label-arrow\">LinearRegression</label><div class=\"sk-toggleable__content\"><pre>LinearRegression()</pre></div></div></div></div></div>"
      ],
      "text/plain": [
       "LinearRegression()"
      ]
     },
     "execution_count": 13,
     "metadata": {},
     "output_type": "execute_result"
    }
   ],
   "source": [
    "LRM = LinearRegression()\n",
    "LRM"
   ]
  },
  {
   "cell_type": "code",
   "execution_count": 47,
   "id": "cc474409",
   "metadata": {},
   "outputs": [],
   "source": [
    "ind_variable = df_o[[\"Item Count\"]]\n",
    "dep_variable = df_o['Order Total']"
   ]
  },
  {
   "cell_type": "markdown",
   "id": "94b379fb",
   "metadata": {},
   "source": [
    "# TRAINING THE MODEL"
   ]
  },
  {
   "cell_type": "code",
   "execution_count": 48,
   "id": "d52038be",
   "metadata": {},
   "outputs": [
    {
     "data": {
      "text/html": [
       "<style>#sk-container-id-4 {color: black;}#sk-container-id-4 pre{padding: 0;}#sk-container-id-4 div.sk-toggleable {background-color: white;}#sk-container-id-4 label.sk-toggleable__label {cursor: pointer;display: block;width: 100%;margin-bottom: 0;padding: 0.3em;box-sizing: border-box;text-align: center;}#sk-container-id-4 label.sk-toggleable__label-arrow:before {content: \"▸\";float: left;margin-right: 0.25em;color: #696969;}#sk-container-id-4 label.sk-toggleable__label-arrow:hover:before {color: black;}#sk-container-id-4 div.sk-estimator:hover label.sk-toggleable__label-arrow:before {color: black;}#sk-container-id-4 div.sk-toggleable__content {max-height: 0;max-width: 0;overflow: hidden;text-align: left;background-color: #f0f8ff;}#sk-container-id-4 div.sk-toggleable__content pre {margin: 0.2em;color: black;border-radius: 0.25em;background-color: #f0f8ff;}#sk-container-id-4 input.sk-toggleable__control:checked~div.sk-toggleable__content {max-height: 200px;max-width: 100%;overflow: auto;}#sk-container-id-4 input.sk-toggleable__control:checked~label.sk-toggleable__label-arrow:before {content: \"▾\";}#sk-container-id-4 div.sk-estimator input.sk-toggleable__control:checked~label.sk-toggleable__label {background-color: #d4ebff;}#sk-container-id-4 div.sk-label input.sk-toggleable__control:checked~label.sk-toggleable__label {background-color: #d4ebff;}#sk-container-id-4 input.sk-hidden--visually {border: 0;clip: rect(1px 1px 1px 1px);clip: rect(1px, 1px, 1px, 1px);height: 1px;margin: -1px;overflow: hidden;padding: 0;position: absolute;width: 1px;}#sk-container-id-4 div.sk-estimator {font-family: monospace;background-color: #f0f8ff;border: 1px dotted black;border-radius: 0.25em;box-sizing: border-box;margin-bottom: 0.5em;}#sk-container-id-4 div.sk-estimator:hover {background-color: #d4ebff;}#sk-container-id-4 div.sk-parallel-item::after {content: \"\";width: 100%;border-bottom: 1px solid gray;flex-grow: 1;}#sk-container-id-4 div.sk-label:hover label.sk-toggleable__label {background-color: #d4ebff;}#sk-container-id-4 div.sk-serial::before {content: \"\";position: absolute;border-left: 1px solid gray;box-sizing: border-box;top: 0;bottom: 0;left: 50%;z-index: 0;}#sk-container-id-4 div.sk-serial {display: flex;flex-direction: column;align-items: center;background-color: white;padding-right: 0.2em;padding-left: 0.2em;position: relative;}#sk-container-id-4 div.sk-item {position: relative;z-index: 1;}#sk-container-id-4 div.sk-parallel {display: flex;align-items: stretch;justify-content: center;background-color: white;position: relative;}#sk-container-id-4 div.sk-item::before, #sk-container-id-4 div.sk-parallel-item::before {content: \"\";position: absolute;border-left: 1px solid gray;box-sizing: border-box;top: 0;bottom: 0;left: 50%;z-index: -1;}#sk-container-id-4 div.sk-parallel-item {display: flex;flex-direction: column;z-index: 1;position: relative;background-color: white;}#sk-container-id-4 div.sk-parallel-item:first-child::after {align-self: flex-end;width: 50%;}#sk-container-id-4 div.sk-parallel-item:last-child::after {align-self: flex-start;width: 50%;}#sk-container-id-4 div.sk-parallel-item:only-child::after {width: 0;}#sk-container-id-4 div.sk-dashed-wrapped {border: 1px dashed gray;margin: 0 0.4em 0.5em 0.4em;box-sizing: border-box;padding-bottom: 0.4em;background-color: white;}#sk-container-id-4 div.sk-label label {font-family: monospace;font-weight: bold;display: inline-block;line-height: 1.2em;}#sk-container-id-4 div.sk-label-container {text-align: center;}#sk-container-id-4 div.sk-container {/* jupyter's `normalize.less` sets `[hidden] { display: none; }` but bootstrap.min.css set `[hidden] { display: none !important; }` so we also need the `!important` here to be able to override the default hidden behavior on the sphinx rendered scikit-learn.org. See: https://github.com/scikit-learn/scikit-learn/issues/21755 */display: inline-block !important;position: relative;}#sk-container-id-4 div.sk-text-repr-fallback {display: none;}</style><div id=\"sk-container-id-4\" class=\"sk-top-container\"><div class=\"sk-text-repr-fallback\"><pre>LinearRegression()</pre><b>In a Jupyter environment, please rerun this cell to show the HTML representation or trust the notebook. <br />On GitHub, the HTML representation is unable to render, please try loading this page with nbviewer.org.</b></div><div class=\"sk-container\" hidden><div class=\"sk-item\"><div class=\"sk-estimator sk-toggleable\"><input class=\"sk-toggleable__control sk-hidden--visually\" id=\"sk-estimator-id-4\" type=\"checkbox\" checked><label for=\"sk-estimator-id-4\" class=\"sk-toggleable__label sk-toggleable__label-arrow\">LinearRegression</label><div class=\"sk-toggleable__content\"><pre>LinearRegression()</pre></div></div></div></div></div>"
      ],
      "text/plain": [
       "LinearRegression()"
      ]
     },
     "execution_count": 48,
     "metadata": {},
     "output_type": "execute_result"
    }
   ],
   "source": [
    "LRM.fit(ind_variable, dep_variable)"
   ]
  },
  {
   "cell_type": "code",
   "execution_count": 49,
   "id": "acea6200",
   "metadata": {},
   "outputs": [
    {
     "data": {
      "text/plain": [
       "(10.849057071960289, 6.221182795698928)"
      ]
     },
     "execution_count": 49,
     "metadata": {},
     "output_type": "execute_result"
    }
   ],
   "source": [
    "LRM.intercept_, LRM.coef_[0]"
   ]
  },
  {
   "cell_type": "markdown",
   "id": "be4dfae2",
   "metadata": {},
   "source": [
    " <p> HERE these are the intercept and slope of the regression formula i.e yhat = mx + b or yhat = b0 + b1x1 where (b=3.5178653887064995, m=0.051522058386395286) // (b0=3.5178653887064995, b1=0.051522058386395286). </p>\n",
    " \n",
    " <p>NOW Lets predict the data using our model and test it for unseen data but first we will draw a scatter plot to see the relation ship between these data we will use matplotlib to plot the regression plot.</p>"
   ]
  },
  {
   "cell_type": "code",
   "execution_count": 50,
   "id": "c764ed70",
   "metadata": {},
   "outputs": [
    {
     "data": {
      "text/plain": [
       "array([29.51260546, 41.95497105, 29.51260546, 29.51260546, 35.73378825,\n",
       "       35.73378825, 35.73378825, 66.83970223, 66.83970223, 29.51260546,\n",
       "       29.51260546, 60.61851944, 35.73378825, 48.17615385, 60.61851944,\n",
       "       48.17615385, 29.51260546, 73.06088503, 29.51260546, 73.06088503,\n",
       "       60.61851944, 35.73378825, 73.06088503, 73.06088503, 60.61851944,\n",
       "       60.61851944])"
      ]
     },
     "execution_count": 50,
     "metadata": {},
     "output_type": "execute_result"
    }
   ],
   "source": [
    "# predection for the previously trained data to draw a trend Line\n",
    "yhat = LRM.predict(ind_variable)\n",
    "yhat"
   ]
  },
  {
   "cell_type": "code",
   "execution_count": 78,
   "id": "4d59bcf5",
   "metadata": {},
   "outputs": [
    {
     "data": {
      "image/png": "[encoded data removed]",
      "text/plain": [
       "<Figure size 600x500 with 1 Axes>"
      ]
     },
     "metadata": {},
     "output_type": "display_data"
    }
   ],
   "source": [
    "# Lets plot this to see the relation between these data\n",
    "plt.figure(figsize=(6, 5))\n",
    "plt.scatter(x=ind_variable, y=dep_variable)\n",
    "plt.plot(ind_variable, yhat, color=\"blue\")\n",
    "plt.xlabel(\"Total orders\")\n",
    "plt.ylabel(\"Total items count\")\n",
    "plt.title(\"relationship of order total and item count.\")\n",
    "plt.show()"
   ]
  },
  {
   "cell_type": "code",
   "execution_count": 63,
   "id": "c0ffde3a",
   "metadata": {},
   "outputs": [
    {
     "data": {
      "text/html": [
       "<div>\n",
       "<style scoped>\n",
       "    .dataframe tbody tr th:only-of-type {\n",
       "        vertical-align: middle;\n",
       "    }\n",
       "\n",
       "    .dataframe tbody tr th {\n",
       "        vertical-align: top;\n",
       "    }\n",
       "\n",
       "    .dataframe thead th {\n",
       "        text-align: right;\n",
       "    }\n",
       "</style>\n",
       "<table border=\"1\" class=\"dataframe\">\n",
       "  <thead>\n",
       "    <tr style=\"text-align: right;\">\n",
       "      <th></th>\n",
       "      <th>Order Total</th>\n",
       "      <th>Item Count</th>\n",
       "    </tr>\n",
       "  </thead>\n",
       "  <tbody>\n",
       "    <tr>\n",
       "      <th>Order Total</th>\n",
       "      <td>1.000000</td>\n",
       "      <td>0.566152</td>\n",
       "    </tr>\n",
       "    <tr>\n",
       "      <th>Item Count</th>\n",
       "      <td>0.566152</td>\n",
       "      <td>1.000000</td>\n",
       "    </tr>\n",
       "  </tbody>\n",
       "</table>\n",
       "</div>"
      ],
      "text/plain": [
       "             Order Total  Item Count\n",
       "Order Total     1.000000    0.566152\n",
       "Item Count      0.566152    1.000000"
      ]
     },
     "execution_count": 63,
     "metadata": {},
     "output_type": "execute_result"
    }
   ],
   "source": [
    "# if we find the correlation between them then\n",
    "\n",
    "correlation = df_o[[\"Order Total\", \"Item Count\"]].corr()\n",
    "percentage = correlation.loc[\"Item Count\", \"Order Total\"]\n",
    "correlation\n"
   ]
  },
  {
   "cell_type": "code",
   "execution_count": 65,
   "id": "8d76bc3a",
   "metadata": {
    "scrolled": true
   },
   "outputs": [
    {
     "name": "stdout",
     "output_type": "stream",
     "text": [
      "here the correlation between the order total and Item count is 57%\n"
     ]
    }
   ],
   "source": [
    "print(f\"here the correlation between the order total and Item count is {round(percentage * 100)}%\")\n",
    "\n",
    "# here we can see a intermediate correlation between them"
   ]
  },
  {
   "cell_type": "code",
   "execution_count": 77,
   "id": "00f7766e",
   "metadata": {},
   "outputs": [
    {
     "name": "stdout",
     "output_type": "stream",
     "text": [
      "here the measn squared error for the given model is : 586.93610596806\n",
      "here the r_squared test/r2_score for the given model is : 32.05% which means it only reduces approximately 32% of the error in the model.\n"
     ]
    }
   ],
   "source": [
    "# error metrices and evaluation of the model\n",
    "from sklearn.metrics import mean_squared_error, r2_score\n",
    "\n",
    "MSE = mean_squared_error(dep_variable, yhat)\n",
    "rsq_test = r2_score(dep_variable, yhat)\n",
    "print(\"here the measn squared error for the given model is :\", MSE)\n",
    "print(\"here the r_squared test/r2_score for the given model is : \" + str(round(rsq_test * 100, 2)) + \"% which means it only reduces approximately 32% of the error in the model.\" )"
   ]
  },
  {
   "cell_type": "code",
   "execution_count": 80,
   "id": "4fe23c57",
   "metadata": {
    "scrolled": true
   },
   "outputs": [
    {
     "name": "stdout",
     "output_type": "stream",
     "text": [
      "what is the total count of the order: 7\n",
      "calculating.....\n",
      "If the orderd item is 7 then the total would be $54.4\n"
     ]
    }
   ],
   "source": [
    "# now for the prediction part\n",
    "from time import *\n",
    "item = int(input(\"what is the total count of the order: \"))\n",
    "prediction = LRM.coef_[0] * item + LRM.intercept_\n",
    "print(\"calculating.....\")\n",
    "sleep(2)\n",
    "print(f\"If the orderd item is {item} then the total would be ${round(prediction, 2)}\")"
   ]
  },
  {
   "cell_type": "markdown",
   "id": "29f26151",
   "metadata": {},
   "source": [
    "<p>This is a regression model under supervised Learning in Machine learning. as for practical life we can easily calculate the total amount given the number of items it only show how powerful a ML model can be.. Which can even calculate the unseen and unpredicted data and give a prediction for how much the dependent variable would be. </p>\n",
    "\n",
    "# POWER OF MACHINE LEARNING....."
   ]
  }
 ],
 "metadata": {
  "kernelspec": {
   "display_name": "Python 3 (ipykernel)",
   "language": "python",
   "name": "python3"
  },
  "language_info": {
   "codemirror_mode": {
    "name": "ipython",
    "version": 3
   },
   "file_extension": ".py",
   "mimetype": "text/x-python",
   "name": "python",
   "nbconvert_exporter": "python",
   "pygments_lexer": "ipython3",
   "version": "3.11.4"
  }
 },
 "nbformat": 4,
 "nbformat_minor": 5
}
